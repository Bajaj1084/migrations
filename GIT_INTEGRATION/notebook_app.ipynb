{
 "metadata": {
  "kernelspec": {
   "display_name": "Streamlit Notebook",
   "name": "streamlit"
  }
 },
 "nbformat_minor": 5,
 "nbformat": 4,
 "cells": [
  {
   "cell_type": "code",
   "id": "ea87e920-c716-45f8-8161-b4d3b317ad8e",
   "metadata": {
    "language": "python",
    "name": "cell1",
    "resultHeight": 0,
    "collapsed": False
   },
   "outputs": [],
   "source": "import snowflake.snowpark as snowpark\nfrom snowflake.snowpark.functions import col\nsession=get_active_session()\nquery_channel=\"create or replace table git_int.git.demo_v2 (id varchar)\"\ndata=session.sql(query_channel).collect()",
   "execution_count": None
  }
 ]
}
