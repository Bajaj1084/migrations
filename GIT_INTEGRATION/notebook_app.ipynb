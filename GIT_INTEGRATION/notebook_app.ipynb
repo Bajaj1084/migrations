{
 "metadata": {
  "kernelspec": {
   "display_name": "Streamlit Notebook",
   "name": "streamlit"
  }
 },
 "nbformat_minor": 5,
 "nbformat": 4,
 "cells": [
  {
   "cell_type": "code",
   "id": "e8b21931-45d7-4897-bdd3-195add1896f2",
   "metadata": {
    "language": "sql",
    "name": "cell2"
   },
   "outputs": [],
   "source": "create or replace table git_int.git.demo_v2 (id varchar);",
   "execution_count": null
  },
  {
   "cell_type": "code",
   "id": "726c265c-6cf5-4385-b91f-9710a846e183",
   "metadata": {
    "language": "sql",
    "name": "cell1"
   },
   "outputs": [],
   "source": "select * from table  FIRST_DB.FIRST_SCH.EMPLOYEE;",
   "execution_count": null
  },
  {
   "cell_type": "code",
   "id": "a613d3e7-6c09-44ef-b515-0021eba54aca",
   "metadata": {
    "language": "sql",
    "name": "cell3"
   },
   "outputs": [],
   "source": "select * from table  FIRST_DB.FIRST_SCH.EMPLOYEE;",
   "execution_count": null
  },
  {
   "cell_type": "code",
   "id": "7463fa44-573c-43d5-a991-3bcce0d4afd7",
   "metadata": {
    "language": "sql",
    "name": "cell4"
   },
   "outputs": [],
   "source": "select * from table  FIRST_DB.FIRST_SCH.EMPLOYEE;",
   "execution_count": None
  }
 ]
}
