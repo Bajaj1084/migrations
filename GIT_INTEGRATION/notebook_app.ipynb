{
 "metadata": {
  "kernelspec": {
   "display_name": "Streamlit Notebook",
   "name": "streamlit"
  }
 },
 "nbformat_minor": 5,
 "nbformat": 4,
 "cells": [
  {
   "cell_type": "code",
   "id": "ea87e920-c716-45f8-8161-b4d3b317ad8e",
   "metadata": {
    "language": "sql",
    "name": "cell1"
   },
   "outputs": [],
   "source": "use database git_int;\nuse shcema git;\ncreate or replace table demo (\nfirst_name varchar(100),\nlast_name varchar(100)\n);",
   "execution_count": null
  }
 ]
}