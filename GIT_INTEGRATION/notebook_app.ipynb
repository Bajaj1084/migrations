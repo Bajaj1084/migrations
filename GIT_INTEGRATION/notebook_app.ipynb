{
 "metadata": {
  "kernelspec": {
   "display_name": "Streamlit Notebook",
   "name": "streamlit"
  }
 },
 "nbformat_minor": 5,
 "nbformat": 4,
 "cells": [
  {
   "cell_type": "code",
   "id": "e8b21931-45d7-4897-bdd3-195add1896f2",
   "metadata": {
    "language": "python",
    "name": "cell2"
   },
   "outputs": [],
   "source": "def main(session):\n    return 'Hello'\n",
   "execution_count": null
  }
 ]
}